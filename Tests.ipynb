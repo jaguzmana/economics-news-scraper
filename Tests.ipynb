{
 "cells": [
  {
   "cell_type": "markdown",
   "id": "aa0b18eb-3e35-4587-8089-26de8236be2f",
   "metadata": {},
   "source": [
    "# Economics News Scrapper"
   ]
  },
  {
   "cell_type": "code",
   "execution_count": 10,
   "id": "b5939050-316f-4bcb-9a40-56aaf5e15e47",
   "metadata": {},
   "outputs": [],
   "source": [
    "import requests as r\n",
    "import lxml.html as html"
   ]
  },
  {
   "cell_type": "markdown",
   "id": "970a9579-cc87-418f-a58e-b2dafc43ed8c",
   "metadata": {},
   "source": [
    "## La Republica"
   ]
  },
  {
   "cell_type": "code",
   "execution_count": 14,
   "id": "9c695561-e624-4566-9c30-80ce2f172333",
   "metadata": {},
   "outputs": [
    {
     "data": {
      "text/plain": [
       "200"
      ]
     },
     "execution_count": 14,
     "metadata": {},
     "output_type": "execute_result"
    }
   ],
   "source": [
    "response = r.get('https://www.larepublica.co/economia')\n",
    "response.status_code"
   ]
  },
  {
   "cell_type": "code",
   "execution_count": 15,
   "id": "1d060a74-b3b8-4b2c-a0c4-bfc1316f447d",
   "metadata": {},
   "outputs": [],
   "source": [
    "parsed = html.fromstring(response.text)"
   ]
  },
  {
   "cell_type": "code",
   "execution_count": 16,
   "id": "bc218986-0412-41db-9eff-825b4ee6099f",
   "metadata": {},
   "outputs": [],
   "source": [
    "news_set = set()"
   ]
  },
  {
   "cell_type": "code",
   "execution_count": 17,
   "id": "f53a8f3f-35c8-45ed-8a90-297cd2ca098b",
   "metadata": {},
   "outputs": [
    {
     "data": {
      "text/plain": [
       "{'https://www.larepublica.co/economia/asi-quedaron-definidas-las-mesas-directivas-en-senado-y-camara-tras-las-votaciones-3912535',\n",
       " 'https://www.larepublica.co/economia/gustavo-petro-se-pronuncio-sobre-la-baja-productividad-laboral-y-pidio-bajar-la-jornada-3912559',\n",
       " 'https://www.larepublica.co/economia/la-comida-rapida-cada-vez-esta-mas-cara-en-la-ultima-decada-se-encarecio-mas-de-60-3912474',\n",
       " 'https://www.larepublica.co/economia/petro-pide-a-bancos-que-se-convierta-a-la-economia-popular-3912325',\n",
       " 'https://www.larepublica.co/economia/petro-sobre-eleccion-de-los-presidentes-del-senado-y-camara-3912551',\n",
       " 'https://www.larepublica.co/economia/presidente-petro-llamo-a-hacer-una-reforma-agraria-y-promover-inversiones-forzosas-3912486'}"
      ]
     },
     "execution_count": 17,
     "metadata": {},
     "output_type": "execute_result"
    }
   ],
   "source": [
    "main_page_links = set(parsed.xpath(\".//div[contains(@class, 'apertura')]/div[@class='flex-grow-1']//a/@href\"))\n",
    "main_page_links"
   ]
  },
  {
   "cell_type": "code",
   "execution_count": 18,
   "id": "e18ffa94-8587-4d73-8821-96ba98b03405",
   "metadata": {},
   "outputs": [
    {
     "data": {
      "text/plain": [
       "{'https://www.larepublica.co/economia/asi-quedaron-definidas-las-mesas-directivas-en-senado-y-camara-tras-las-votaciones-3912535',\n",
       " 'https://www.larepublica.co/economia/gustavo-petro-se-pronuncio-sobre-la-baja-productividad-laboral-y-pidio-bajar-la-jornada-3912559',\n",
       " 'https://www.larepublica.co/economia/la-comida-rapida-cada-vez-esta-mas-cara-en-la-ultima-decada-se-encarecio-mas-de-60-3912474',\n",
       " 'https://www.larepublica.co/economia/petro-pide-a-bancos-que-se-convierta-a-la-economia-popular-3912325',\n",
       " 'https://www.larepublica.co/economia/petro-sobre-eleccion-de-los-presidentes-del-senado-y-camara-3912551',\n",
       " 'https://www.larepublica.co/economia/presidente-petro-llamo-a-hacer-una-reforma-agraria-y-promover-inversiones-forzosas-3912486'}"
      ]
     },
     "execution_count": 18,
     "metadata": {},
     "output_type": "execute_result"
    }
   ],
   "source": [
    "news_set.update(main_page_links)\n",
    "news_set"
   ]
  },
  {
   "cell_type": "code",
   "execution_count": 19,
   "id": "a976b200-98f9-4a35-83dd-6f6272f6c441",
   "metadata": {},
   "outputs": [
    {
     "data": {
      "text/plain": [
       "{'https://www.larepublica.co/economia/caf-aprobo-credito-de-us-350-millones-para-el-desarrollo-territorial-de-colombia-3911478',\n",
       " 'https://www.larepublica.co/economia/comunidades-embera-inician-el-regreso-a-sus-territorios-confirmo-alcaldia-de-bogota-3911668',\n",
       " 'https://www.larepublica.co/economia/de-las-reformas-sociales-dos-se-hundieron-dos-se-aprobaron-y-una-sigue-en-tramite-3912008',\n",
       " 'https://www.larepublica.co/economia/ejecucion-presupuestal-esta-por-debajo-del-promedio-de-23-anos-3911932',\n",
       " 'https://www.larepublica.co/economia/el-exdirector-del-dnp-jorge-ivan-gonzalez-ve-razones-para-suspender-la-regla-fiscal-3911513',\n",
       " 'https://www.larepublica.co/economia/generar-confianza-fast-track-y-dinamizar-debates-algunos-de-los-retos-del-congreso-3912465',\n",
       " 'https://www.larepublica.co/economia/gobierno-nacional-buscaria-recortar-la-jornada-laboral-hasta-las-40-horas-semanales-3911359',\n",
       " 'https://www.larepublica.co/economia/gobierno-nacional-se-alista-para-presentar-en-la-legislatura-otra-reforma-tributaria-3911727',\n",
       " 'https://www.larepublica.co/economia/gobierno-nacional-ultima-detalles-del-plan-de-reactivacion-a-dos-semanas-de-radicarlo-3911522',\n",
       " 'https://www.larepublica.co/economia/grupo-ecopetrol-buscara-adquirir-una-participacion-en-crownrock-en-estados-unidos-3911261',\n",
       " 'https://www.larepublica.co/economia/importaciones-en-mayo-se-incrementaron-2-2-y-alcanzaron-us-5-535-5-millones-cif-3911444',\n",
       " 'https://www.larepublica.co/economia/los-horarios-vias-y-detalles-del-desfile-militar-y-policial-por-el-dia-de-la-independencia-3912371',\n",
       " 'https://www.larepublica.co/economia/mintic-reporto-una-afectacion-minima-en-colombia-por-un-fallo-tecnologico-mundial-3911656',\n",
       " 'https://www.larepublica.co/economia/nacion-podra-contratar-emprestitos-externos-por-us-5-000-millones-para-presupuesto-3911853',\n",
       " 'https://www.larepublica.co/economia/presidente-petro-insistio-en-que-el-sector-financiero-debe-hacer-una-inversion-forzosa-3911788',\n",
       " 'https://www.larepublica.co/economia/reformas-del-gobierno-de-petro-3912021',\n",
       " 'https://www.larepublica.co/economia/se-desarrollan-el-desfile-militar-y-policial-y-el-protocolo-por-el-dia-de-la-independencia-3912381',\n",
       " 'https://www.larepublica.co/economia/subastas-publicas-de-la-dian-3911505',\n",
       " 'https://www.larepublica.co/economia/transmilenio-descarto-impactos-en-el-sistema-por-la-falla-informatica-a-nivel-global-3911228'}"
      ]
     },
     "execution_count": 19,
     "metadata": {},
     "output_type": "execute_result"
    }
   ],
   "source": [
    "more_news_links = set(parsed.xpath(\".//div[contains(@class, 'more-news')]/div[@id='proportional-anchor-1']//a/@href\"))\n",
    "more_news_links"
   ]
  },
  {
   "cell_type": "code",
   "execution_count": 20,
   "id": "2e8d8252-a155-44eb-b05a-d54d97df2fed",
   "metadata": {},
   "outputs": [
    {
     "data": {
      "text/plain": [
       "{'https://www.larepublica.co/economia/asi-quedaron-definidas-las-mesas-directivas-en-senado-y-camara-tras-las-votaciones-3912535',\n",
       " 'https://www.larepublica.co/economia/caf-aprobo-credito-de-us-350-millones-para-el-desarrollo-territorial-de-colombia-3911478',\n",
       " 'https://www.larepublica.co/economia/comunidades-embera-inician-el-regreso-a-sus-territorios-confirmo-alcaldia-de-bogota-3911668',\n",
       " 'https://www.larepublica.co/economia/de-las-reformas-sociales-dos-se-hundieron-dos-se-aprobaron-y-una-sigue-en-tramite-3912008',\n",
       " 'https://www.larepublica.co/economia/ejecucion-presupuestal-esta-por-debajo-del-promedio-de-23-anos-3911932',\n",
       " 'https://www.larepublica.co/economia/el-exdirector-del-dnp-jorge-ivan-gonzalez-ve-razones-para-suspender-la-regla-fiscal-3911513',\n",
       " 'https://www.larepublica.co/economia/generar-confianza-fast-track-y-dinamizar-debates-algunos-de-los-retos-del-congreso-3912465',\n",
       " 'https://www.larepublica.co/economia/gobierno-nacional-buscaria-recortar-la-jornada-laboral-hasta-las-40-horas-semanales-3911359',\n",
       " 'https://www.larepublica.co/economia/gobierno-nacional-se-alista-para-presentar-en-la-legislatura-otra-reforma-tributaria-3911727',\n",
       " 'https://www.larepublica.co/economia/gobierno-nacional-ultima-detalles-del-plan-de-reactivacion-a-dos-semanas-de-radicarlo-3911522',\n",
       " 'https://www.larepublica.co/economia/grupo-ecopetrol-buscara-adquirir-una-participacion-en-crownrock-en-estados-unidos-3911261',\n",
       " 'https://www.larepublica.co/economia/gustavo-petro-se-pronuncio-sobre-la-baja-productividad-laboral-y-pidio-bajar-la-jornada-3912559',\n",
       " 'https://www.larepublica.co/economia/importaciones-en-mayo-se-incrementaron-2-2-y-alcanzaron-us-5-535-5-millones-cif-3911444',\n",
       " 'https://www.larepublica.co/economia/la-comida-rapida-cada-vez-esta-mas-cara-en-la-ultima-decada-se-encarecio-mas-de-60-3912474',\n",
       " 'https://www.larepublica.co/economia/los-horarios-vias-y-detalles-del-desfile-militar-y-policial-por-el-dia-de-la-independencia-3912371',\n",
       " 'https://www.larepublica.co/economia/mintic-reporto-una-afectacion-minima-en-colombia-por-un-fallo-tecnologico-mundial-3911656',\n",
       " 'https://www.larepublica.co/economia/nacion-podra-contratar-emprestitos-externos-por-us-5-000-millones-para-presupuesto-3911853',\n",
       " 'https://www.larepublica.co/economia/petro-pide-a-bancos-que-se-convierta-a-la-economia-popular-3912325',\n",
       " 'https://www.larepublica.co/economia/petro-sobre-eleccion-de-los-presidentes-del-senado-y-camara-3912551',\n",
       " 'https://www.larepublica.co/economia/presidente-petro-insistio-en-que-el-sector-financiero-debe-hacer-una-inversion-forzosa-3911788',\n",
       " 'https://www.larepublica.co/economia/presidente-petro-llamo-a-hacer-una-reforma-agraria-y-promover-inversiones-forzosas-3912486',\n",
       " 'https://www.larepublica.co/economia/reformas-del-gobierno-de-petro-3912021',\n",
       " 'https://www.larepublica.co/economia/se-desarrollan-el-desfile-militar-y-policial-y-el-protocolo-por-el-dia-de-la-independencia-3912381',\n",
       " 'https://www.larepublica.co/economia/subastas-publicas-de-la-dian-3911505',\n",
       " 'https://www.larepublica.co/economia/transmilenio-descarto-impactos-en-el-sistema-por-la-falla-informatica-a-nivel-global-3911228'}"
      ]
     },
     "execution_count": 20,
     "metadata": {},
     "output_type": "execute_result"
    }
   ],
   "source": [
    "news_set.update(more_news_links)\n",
    "news_set"
   ]
  },
  {
   "cell_type": "code",
   "execution_count": 21,
   "id": "3d3e5f49-6254-4c40-b9b2-b20089babb1a",
   "metadata": {},
   "outputs": [
    {
     "data": {
      "text/plain": [
       "19"
      ]
     },
     "execution_count": 21,
     "metadata": {},
     "output_type": "execute_result"
    }
   ],
   "source": [
    "len(more_news_links)"
   ]
  },
  {
   "cell_type": "code",
   "execution_count": 22,
   "id": "4976a75b-3c0b-43ee-a776-e2f12e9267f9",
   "metadata": {},
   "outputs": [],
   "source": [
    "XPATH_TITLE = \".//div[contains(@data-epica-module-name, 'Contenido')]//div[contains(@class, 'OpeningPostNormal')]//h2/span/text()\"\n",
    "XPATH_DATE = \".//div[contains(@data-epica-module-name, 'Contenido')]//div[contains(@class, 'OpeningPostNormal')]//span[@class='date']/text()\"\n",
    "XPATH_LEAD = \".//div[@class='lead']/p/text()\"\n",
    "XPATH_AUTHOR = \".//div[@class='author-article']//button/text()\""
   ]
  },
  {
   "cell_type": "code",
   "execution_count": 23,
   "id": "77ef219b-f950-4992-9bb8-fb058de9df2d",
   "metadata": {},
   "outputs": [
    {
     "name": "stdout",
     "output_type": "stream",
     "text": [
      "['\\n                        De las reformas sociales, dos se hundieron, dos se aprobaron y una sigue en trámite\\n                    ']\n",
      "['sábado, 20 de julio de 2024']\n",
      "['La Reforma Pensional y la Jurisdicción Agraria se convirtieron en ley, pero se hundieron las de salud y educación. A la laboral le faltan tres debates']\n",
      "['Brayan Xavier Becerra']\n"
     ]
    }
   ],
   "source": [
    "count = 0\n",
    "\n",
    "for news in news_set:\n",
    "    news_content = r.get(news)\n",
    "    parsed = html.fromstring(news_content.text)\n",
    "\n",
    "    print(parsed.xpath(XPATH_TITLE))\n",
    "    print(parsed.xpath(XPATH_DATE))\n",
    "    print(parsed.xpath(XPATH_LEAD))\n",
    "    print(parsed.xpath(XPATH_AUTHOR))\n",
    "\n",
    "    count += 1\n",
    "\n",
    "    if count == 1:\n",
    "        break\n",
    "    "
   ]
  },
  {
   "cell_type": "markdown",
   "id": "35defeae-716f-4e42-9161-aefb8b2aac52",
   "metadata": {},
   "source": [
    "## El Espectador"
   ]
  },
  {
   "cell_type": "code",
   "execution_count": 11,
   "id": "04df56ba-b5a2-4a0e-8be0-84ffce2359ef",
   "metadata": {},
   "outputs": [
    {
     "data": {
      "text/plain": [
       "200"
      ]
     },
     "execution_count": 11,
     "metadata": {},
     "output_type": "execute_result"
    }
   ],
   "source": [
    "response = r.get('https://www.elespectador.com/economia/')\n",
    "response.status_code"
   ]
  },
  {
   "cell_type": "code",
   "execution_count": 12,
   "id": "7a81cc54-8187-4796-a31a-58570ff966c9",
   "metadata": {},
   "outputs": [],
   "source": [
    "parsed = html.fromstring(response.text)"
   ]
  },
  {
   "cell_type": "code",
   "execution_count": 13,
   "id": "acc941c3-5703-468f-a430-675bb8973b89",
   "metadata": {},
   "outputs": [],
   "source": [
    "XPATH_TITLE = \".//div[contains(@class, 'ArticleHeader')]//h1[contains(@class, 'Title')]/text()\"\n",
    "XPATH_DATE = \".//div[contains(@class, 'ArticleHeader')]//div[contains(@class, 'Datetime')]/text()\"\n",
    "XPATH_LEAD = \".//div[contains(@class, 'ArticleHeader')]//h2[@class='ArticleHeader-Hook ']/div/text()\"\n",
    "XPATH_AUTHOR = \".//div[contains(@class, 'ArticleHeader')]//div[@class='ArticleHeader-Author']/a/text()\""
   ]
  },
  {
   "cell_type": "code",
   "execution_count": 14,
   "id": "416724f2-d04b-490f-bb39-1331939b46a5",
   "metadata": {},
   "outputs": [],
   "source": [
    "news_set = set()"
   ]
  },
  {
   "cell_type": "code",
   "execution_count": 15,
   "id": "b60845de-2724-49a7-8266-dde074e037bb",
   "metadata": {},
   "outputs": [
    {
     "data": {
      "text/plain": [
       "{'/economia/emprendimiento-y-liderazgo/a-mi-no-me-vengan-a-hablar-de-politica-hablemos-de-negocios-ovidio-claros-presidente-de-la-camara-de-comercio-de-bogota/',\n",
       " '/economia/finanzas-personales/cuales-son-los-bancos-con-las-tasas-de-interes-mas-bajas-y-altas-en-colombia/',\n",
       " '/economia/macroeconomia/precio-del-dolar-hoy-24-de-julio-en-colombia/',\n",
       " '/economia/no-vamos-a-tener-deficit-de-gas-en-el-pais-presidente-de-ecopetrol/'}"
      ]
     },
     "execution_count": 15,
     "metadata": {},
     "output_type": "execute_result"
    }
   ],
   "source": [
    "sect_news_1 = set(parsed.xpath(\".//div[@id='main-layout']//div[contains(@class, 'Card')]//h2[contains(@class, 'Card-Title')]/a/@href\"))\n",
    "sect_news_1"
   ]
  },
  {
   "cell_type": "code",
   "execution_count": 16,
   "id": "27f470c1-78b7-4997-9bd8-5d611fca7dd4",
   "metadata": {},
   "outputs": [
    {
     "data": {
      "text/plain": [
       "{'/economia/emprendimiento-y-liderazgo/a-mi-no-me-vengan-a-hablar-de-politica-hablemos-de-negocios-ovidio-claros-presidente-de-la-camara-de-comercio-de-bogota/',\n",
       " '/economia/finanzas-personales/cuales-son-los-bancos-con-las-tasas-de-interes-mas-bajas-y-altas-en-colombia/',\n",
       " '/economia/macroeconomia/precio-del-dolar-hoy-24-de-julio-en-colombia/',\n",
       " '/economia/no-vamos-a-tener-deficit-de-gas-en-el-pais-presidente-de-ecopetrol/'}"
      ]
     },
     "execution_count": 16,
     "metadata": {},
     "output_type": "execute_result"
    }
   ],
   "source": [
    "news_set.update(sect_news_1)\n",
    "news_set"
   ]
  },
  {
   "cell_type": "code",
   "execution_count": 17,
   "id": "12b3137e-07c4-4222-92f6-3bf4a8233656",
   "metadata": {},
   "outputs": [
    {
     "name": "stdout",
     "output_type": "stream",
     "text": [
      "/economia/\n",
      "https://www.elespectador.com/economia/finanzas-personales/precio-del-dolar-hoy-23-de-julio-en-colombia-noticias-hoy/\n"
     ]
    }
   ],
   "source": [
    "url_news = '/economia/finanzas-personales/precio-del-dolar-hoy-23-de-julio-en-colombia-noticias-hoy/'\n",
    "url_webpage = 'https://www.elespectador.com/economia/'\n",
    "\n",
    "print(url_webpage[28:])\n",
    "\n",
    "if url_news.find(url_webpage) == -1:\n",
    "    url_webpage = url_webpage.replace('/economia/', '')\n",
    "    print(url_webpage + url_news)"
   ]
  },
  {
   "cell_type": "code",
   "execution_count": 19,
   "id": "1e0237c3-c926-429b-b166-1e7fcb866a1c",
   "metadata": {},
   "outputs": [
    {
     "name": "stdout",
     "output_type": "stream",
     "text": [
      "https://www.elespectador.com/economia/macroeconomia/precio-del-dolar-hoy-24-de-julio-en-colombia/\n",
      "['Precio del dólar hoy en Colombia: así cerró la divisa este 24 de julio']\n",
      "['24 de julio de 2024 - 06:17 p.\\xa0m.']\n",
      "['El dólar cerró su cotización del miércoles al alza. Estas son las variables que siguen impactando el valor de la divisa.']\n",
      "['Redacción Economía']\n"
     ]
    }
   ],
   "source": [
    "count = 0\n",
    "\n",
    "for news in news_set:\n",
    "    url_webpage = 'https://www.elespectador.com/economia/'\n",
    "    if news.find(url_webpage) == -1:\n",
    "        url_webpage = url_webpage.replace('/economia/', '')\n",
    "        news = url_webpage + news\n",
    "        print(news)\n",
    "    news_content = r.get(news)\n",
    "    parsed = html.fromstring(news_content.text)\n",
    "\n",
    "    print(parsed.xpath(XPATH_TITLE))\n",
    "    print(parsed.xpath(XPATH_DATE))\n",
    "    print(parsed.xpath(XPATH_LEAD))\n",
    "    print(parsed.xpath(XPATH_AUTHOR))\n",
    "\n",
    "    count += 1\n",
    "\n",
    "    if count == 1:\n",
    "        break"
   ]
  },
  {
   "cell_type": "markdown",
   "id": "2d08ba7f-0e78-4229-844a-67159ef5bd01",
   "metadata": {},
   "source": [
    "## El Tiempo"
   ]
  },
  {
   "cell_type": "code",
   "execution_count": 2,
   "id": "867860b9-2eb3-406f-a31b-f446d37d4abe",
   "metadata": {},
   "outputs": [
    {
     "data": {
      "text/plain": [
       "200"
      ]
     },
     "execution_count": 2,
     "metadata": {},
     "output_type": "execute_result"
    }
   ],
   "source": [
    "response = r.get('https://www.eltiempo.com/economia/')\n",
    "response.status_code"
   ]
  },
  {
   "cell_type": "code",
   "execution_count": 3,
   "id": "7848882c-3c43-4049-995e-2e01541fac39",
   "metadata": {},
   "outputs": [],
   "source": [
    "parsed = html.fromstring(response.text)"
   ]
  },
  {
   "cell_type": "code",
   "execution_count": 4,
   "id": "8872505d-c173-489a-8892-6ed22abe98b1",
   "metadata": {},
   "outputs": [],
   "source": [
    "XPATH_TITLE = \".//article[@class='c-detail']//div[@class='c-detail-header']//h1[@class='c-detail__title']/text()\"\n",
    "XPATH_DATE = \"//div[@class='c-detail__info']//figcaption[@class='c-detail__author__txt']//time[@class='c-detail__date']/text()\"\n",
    "XPATH_LEAD = \".//article[@class='c-detail']//div[@class='c-detail-header']//div[@class='c-detail__subtitle']/h2/text()\"\n",
    "XPATH_AUTHOR = \".//div[@class='c-detail__info']//figcaption[@class='c-detail__author__txt']//a[@class='c-detail__author__name' or @class='c-detail__author__txt']/text()\""
   ]
  },
  {
   "cell_type": "code",
   "execution_count": 5,
   "id": "277a1c51-925b-438d-9bfe-09719d6c2aeb",
   "metadata": {},
   "outputs": [],
   "source": [
    "news_set = set()"
   ]
  },
  {
   "cell_type": "code",
   "execution_count": 6,
   "id": "a5a9e76a-29d9-49bf-b5ec-570fd63c3abf",
   "metadata": {},
   "outputs": [
    {
     "data": {
      "text/plain": [
       "{'/economia/empresas/alpina-pule-acuerdo-con-el-gobierno-para-comprar-excedentes-de-leche-de-los-pequenos-ganaderos-3364984',\n",
       " '/economia/empresas/colombiano-grupo-oikos-invierte-us-2-5-millones-en-ecuador-cual-es-el-negocio-desarrollara-en-el-vecino-pais-3363223',\n",
       " '/economia/empresas/colombianos-pagaron-mas-de-53-mil-millones-de-pesos-para-saldar-deudas-en-mora-en-el-primer-semestre-de-2024-3363597',\n",
       " '/economia/empresas/en-98-dias-hoteles-santuario-recogio-de-inversionistas-798-inversionistas-1-700-millones-asi-fue-como-lo-logro-3363647',\n",
       " '/economia/empresas/esto-dicen-las-directivas-de-grupo-nutresa-sobre-eventual-traspaso-a-inversionista-arabe-del-control-de-la-multilatina-de-alimentos-3364622',\n",
       " '/economia/empresas/las-alternativas-que-tiene-en-marcha-ecopetrol-para-enfrentar-el-deficit-de-gas-en-colombia-3365392',\n",
       " '/economia/empresas/ley-dejen-de-fregar-estas-son-5-recomendaciones-para-cumplir-con-la-normativa-siendo-empresa-3364929',\n",
       " '/economia/empresas/ofrecen-digitalizar-gratis-a-500-mypimes-y-tiendas-fisicas-de-colombia-vea-como-participar-3363667',\n",
       " '/economia/empresas/tigo-colombia-no-tiene-una-necesidad-de-capitalizacion-adicional-de-sus-accionistas-carlos-blanco-3363211',\n",
       " '/economia/empresas/volvo-espera-duplicar-sus-ventas-con-su-nuevo-vehiculo-100-electrico-precios-y-caracteristicas-del-ex30-3364848',\n",
       " '/economia/finanzas-personales/como-aplicar-para-el-asilo-en-canada-si-es-colombiano-todo-lo-que-debe-saber-para-llevar-a-cabo-el-proceso-de-migracion-3365301',\n",
       " '/economia/finanzas-personales/como-saber-si-tengo-giro-de-renta-ciudadana-o-devolucion-de-iva-link-de-banco-agrario-3365102',\n",
       " '/economia/finanzas-personales/dian-subasta-relojes-anillos-pulseras-y-mas-joyas-desde-207-mil-asi-puede-adquirir-oro-plata-y-otros-metales-preciosos-3365023',\n",
       " '/economia/finanzas-personales/loteria-de-la-cruz-roja-y-el-huila-resultados-del-martes-23-de-julio-de-2024-3365149',\n",
       " '/economia/finanzas-personales/merqueo-abre-nuevas-tiendas-en-bogota-una-revolucion-en-el-mercado-para-el-hogar-3365000',\n",
       " '/economia/finanzas-personales/prosperidad-social-iniciara-el-pago-de-renta-ciudadana-y-devolucion-del-iva-un-dia-antes-de-lo-anunciado-3365308',\n",
       " '/economia/finanzas-personales/resultados-de-el-dorado-del-martes-23-de-julio-de-3365231',\n",
       " '/economia/finanzas-personales/resultados-de-el-paisita-dia-y-noche-del-martes-23-de-julio-de-3365237',\n",
       " '/economia/finanzas-personales/resultados-del-super-astro-sol-del-martes-23-de-julio-de-2024-3364787',\n",
       " '/economia/sector-financiero/analistas-esperan-que-la-tasa-de-intervencion-del-banco-de-la-republica-cierre-el-ano-en-8-5-3364696',\n",
       " '/economia/sector-financiero/banco-caja-social-se-suma-a-las-entidades-financieras-que-bajan-las-tasas-para-creditos-de-vivienda-3361494',\n",
       " '/economia/sector-financiero/banco-de-occidente-se-suma-a-la-guerra-de-tasas-de-credito-de-vivienda-3361589',\n",
       " '/economia/sector-financiero/bbva-colombia-tambien-se-suma-a-la-rebaja-de-tasas-de-interes-para-poder-adquirir-vivienda-3360651',\n",
       " '/economia/sector-financiero/gobierno-y-representantes-de-la-banca-privada-vuelven-a-reunirse-para-buscar-salidas-que-permitan-reactivar-la-economia-3360972',\n",
       " '/economia/sector-financiero/mientras-avanza-proyecto-normativo-de-criptoactivos-en-el-congreso-tres-entidades-del-pais-entran-de-lleno-a-este-mercado-3364611',\n",
       " '/economia/sector-financiero/nuevo-encuentro-del-gobierno-con-los-banqueros-para-tratar-de-destrabar-la-economia-colombiana-3363585',\n",
       " '/economia/sector-financiero/pilas-nueva-modalidad-de-fraude-por-descuentos-de-hasta-el-70-en-las-multas-esto-es-lo-que-debe-saber-3360914',\n",
       " '/economia/sector-financiero/scotiabank-colpatria-se-une-a-la-lista-de-bancos-que-reducen-sus-tasas-de-interes-para-creditos-de-vivienda-3364449',\n",
       " '/economia/sector-financiero/una-posible-investigacion-al-ministro-ricardo-bonilla-podria-afectar-a-los-mercados-de-colombia-3363594',\n",
       " '/economia/sectores/emprender-mujer-abre-convocatoria-para-vincular-a-385-emprendedoras-en-medellin-barranquilla-y-bogota-3365382',\n",
       " '/economia/sectores/estas-las-medidas-propuestas-por-anif-para-recuperar-la-inversion-en-el-pais-3365070',\n",
       " '/economia/sectores/fany-guerrero-se-posesiono-como-experta-comisionada-de-la-creg-3365039',\n",
       " '/economia/sectores/las-medidas-que-apuntan-a-reducir-los-precios-de-la-tarifa-de-la-electricidad-en-el-pais-3364995',\n",
       " '/economia/sectores/minhacienda-dice-cuanto-deberia-subir-el-precio-del-acpm-para-cerrar-brecha-no-podemos-mantenerlo-congelado-3365065',\n",
       " '/economia/sectores/oferta-de-gas-local-no-sera-suficiente-para-cubrir-la-demanda-en-2025-y-2026-advierte-naturgas-3365219',\n",
       " '/economia/sectores/por-que-no-se-ha-podido-levantar-la-huelga-de-los-sindicatos-del-ministerio-de-trabajo-que-completa-54-dias-3365412',\n",
       " '/economia/sectores/upme-anuncia-plan-de-obras-urgentes-de-transmision-de-energia-electrica-en-el-caribe-choco-y-norte-de-santander-3365399',\n",
       " 'https://www.eltiempo.com/contenido-comercial/la-escuela-colombiana-de-ingenieria-julio-garavito-amplia-su-oferta-de-posgrados-3352345',\n",
       " 'https://www.eltiempo.com/economia/sector-financiero/asi-avanza-el-segundo-tiempo-del-espanol-banco-santander-en-el-mercado-financiero-colombiano-3363270',\n",
       " 'https://www.eltiempo.com/economia/sectores/empresarios-lanzan-propuestas-y-piden-seguridad-juridica-para-hacer-inversiones-y-reactivar-la-economia-3365103',\n",
       " 'https://www.eltiempo.com/economia/sectores/gobierno-busca-obtener-creditos-externos-con-multilaterales-hasta-por-us-5-000-millones-para-financiar-el-presupuesto-3364865',\n",
       " 'https://www.eltiempo.com/economia/sectores/procuradora-delegada-para-la-proteccion-social-habla-sobre-la-viabilidad-de-la-reforma-pensional-3364596',\n",
       " 'https://www.eltiempo.com/mas-contenido/andesco-expone-sus-apuestas-en-servicios-publicos-y-medio-ambiente-3357362',\n",
       " 'https://www.eltiempo.com/mas-contenido/la-fucs-impacta-a-comunidades-de-todo-el-pais-3359430'}"
      ]
     },
     "execution_count": 6,
     "metadata": {},
     "output_type": "execute_result"
    }
   ],
   "source": [
    "sect_news_1 = set(parsed.xpath(\".//main[@class='content']//section[contains(@class, o-section) and not(contains(@class, 'o-section--misportales')) and not(contains(@class, 'u-color-bg--grey'))]//article[contains(@class, 'c-article')]//h3[@class='c-article__title']/a/@href\"))\n",
    "sect_news_1"
   ]
  },
  {
   "cell_type": "code",
   "execution_count": 7,
   "id": "25773aab-d1b0-4906-ab22-fbce2f38572c",
   "metadata": {},
   "outputs": [
    {
     "data": {
      "text/plain": [
       "{'/economia/empresas/alpina-pule-acuerdo-con-el-gobierno-para-comprar-excedentes-de-leche-de-los-pequenos-ganaderos-3364984',\n",
       " '/economia/empresas/colombiano-grupo-oikos-invierte-us-2-5-millones-en-ecuador-cual-es-el-negocio-desarrollara-en-el-vecino-pais-3363223',\n",
       " '/economia/empresas/colombianos-pagaron-mas-de-53-mil-millones-de-pesos-para-saldar-deudas-en-mora-en-el-primer-semestre-de-2024-3363597',\n",
       " '/economia/empresas/en-98-dias-hoteles-santuario-recogio-de-inversionistas-798-inversionistas-1-700-millones-asi-fue-como-lo-logro-3363647',\n",
       " '/economia/empresas/esto-dicen-las-directivas-de-grupo-nutresa-sobre-eventual-traspaso-a-inversionista-arabe-del-control-de-la-multilatina-de-alimentos-3364622',\n",
       " '/economia/empresas/las-alternativas-que-tiene-en-marcha-ecopetrol-para-enfrentar-el-deficit-de-gas-en-colombia-3365392',\n",
       " '/economia/empresas/ley-dejen-de-fregar-estas-son-5-recomendaciones-para-cumplir-con-la-normativa-siendo-empresa-3364929',\n",
       " '/economia/empresas/ofrecen-digitalizar-gratis-a-500-mypimes-y-tiendas-fisicas-de-colombia-vea-como-participar-3363667',\n",
       " '/economia/empresas/tigo-colombia-no-tiene-una-necesidad-de-capitalizacion-adicional-de-sus-accionistas-carlos-blanco-3363211',\n",
       " '/economia/empresas/volvo-espera-duplicar-sus-ventas-con-su-nuevo-vehiculo-100-electrico-precios-y-caracteristicas-del-ex30-3364848',\n",
       " '/economia/finanzas-personales/como-aplicar-para-el-asilo-en-canada-si-es-colombiano-todo-lo-que-debe-saber-para-llevar-a-cabo-el-proceso-de-migracion-3365301',\n",
       " '/economia/finanzas-personales/como-saber-si-tengo-giro-de-renta-ciudadana-o-devolucion-de-iva-link-de-banco-agrario-3365102',\n",
       " '/economia/finanzas-personales/dian-subasta-relojes-anillos-pulseras-y-mas-joyas-desde-207-mil-asi-puede-adquirir-oro-plata-y-otros-metales-preciosos-3365023',\n",
       " '/economia/finanzas-personales/loteria-de-la-cruz-roja-y-el-huila-resultados-del-martes-23-de-julio-de-2024-3365149',\n",
       " '/economia/finanzas-personales/merqueo-abre-nuevas-tiendas-en-bogota-una-revolucion-en-el-mercado-para-el-hogar-3365000',\n",
       " '/economia/finanzas-personales/prosperidad-social-iniciara-el-pago-de-renta-ciudadana-y-devolucion-del-iva-un-dia-antes-de-lo-anunciado-3365308',\n",
       " '/economia/finanzas-personales/resultados-de-el-dorado-del-martes-23-de-julio-de-3365231',\n",
       " '/economia/finanzas-personales/resultados-de-el-paisita-dia-y-noche-del-martes-23-de-julio-de-3365237',\n",
       " '/economia/finanzas-personales/resultados-del-super-astro-sol-del-martes-23-de-julio-de-2024-3364787',\n",
       " '/economia/sector-financiero/analistas-esperan-que-la-tasa-de-intervencion-del-banco-de-la-republica-cierre-el-ano-en-8-5-3364696',\n",
       " '/economia/sector-financiero/banco-caja-social-se-suma-a-las-entidades-financieras-que-bajan-las-tasas-para-creditos-de-vivienda-3361494',\n",
       " '/economia/sector-financiero/banco-de-occidente-se-suma-a-la-guerra-de-tasas-de-credito-de-vivienda-3361589',\n",
       " '/economia/sector-financiero/bbva-colombia-tambien-se-suma-a-la-rebaja-de-tasas-de-interes-para-poder-adquirir-vivienda-3360651',\n",
       " '/economia/sector-financiero/gobierno-y-representantes-de-la-banca-privada-vuelven-a-reunirse-para-buscar-salidas-que-permitan-reactivar-la-economia-3360972',\n",
       " '/economia/sector-financiero/mientras-avanza-proyecto-normativo-de-criptoactivos-en-el-congreso-tres-entidades-del-pais-entran-de-lleno-a-este-mercado-3364611',\n",
       " '/economia/sector-financiero/nuevo-encuentro-del-gobierno-con-los-banqueros-para-tratar-de-destrabar-la-economia-colombiana-3363585',\n",
       " '/economia/sector-financiero/pilas-nueva-modalidad-de-fraude-por-descuentos-de-hasta-el-70-en-las-multas-esto-es-lo-que-debe-saber-3360914',\n",
       " '/economia/sector-financiero/scotiabank-colpatria-se-une-a-la-lista-de-bancos-que-reducen-sus-tasas-de-interes-para-creditos-de-vivienda-3364449',\n",
       " '/economia/sector-financiero/una-posible-investigacion-al-ministro-ricardo-bonilla-podria-afectar-a-los-mercados-de-colombia-3363594',\n",
       " '/economia/sectores/emprender-mujer-abre-convocatoria-para-vincular-a-385-emprendedoras-en-medellin-barranquilla-y-bogota-3365382',\n",
       " '/economia/sectores/estas-las-medidas-propuestas-por-anif-para-recuperar-la-inversion-en-el-pais-3365070',\n",
       " '/economia/sectores/fany-guerrero-se-posesiono-como-experta-comisionada-de-la-creg-3365039',\n",
       " '/economia/sectores/las-medidas-que-apuntan-a-reducir-los-precios-de-la-tarifa-de-la-electricidad-en-el-pais-3364995',\n",
       " '/economia/sectores/minhacienda-dice-cuanto-deberia-subir-el-precio-del-acpm-para-cerrar-brecha-no-podemos-mantenerlo-congelado-3365065',\n",
       " '/economia/sectores/oferta-de-gas-local-no-sera-suficiente-para-cubrir-la-demanda-en-2025-y-2026-advierte-naturgas-3365219',\n",
       " '/economia/sectores/por-que-no-se-ha-podido-levantar-la-huelga-de-los-sindicatos-del-ministerio-de-trabajo-que-completa-54-dias-3365412',\n",
       " '/economia/sectores/upme-anuncia-plan-de-obras-urgentes-de-transmision-de-energia-electrica-en-el-caribe-choco-y-norte-de-santander-3365399',\n",
       " 'https://www.eltiempo.com/contenido-comercial/la-escuela-colombiana-de-ingenieria-julio-garavito-amplia-su-oferta-de-posgrados-3352345',\n",
       " 'https://www.eltiempo.com/economia/sector-financiero/asi-avanza-el-segundo-tiempo-del-espanol-banco-santander-en-el-mercado-financiero-colombiano-3363270',\n",
       " 'https://www.eltiempo.com/economia/sectores/empresarios-lanzan-propuestas-y-piden-seguridad-juridica-para-hacer-inversiones-y-reactivar-la-economia-3365103',\n",
       " 'https://www.eltiempo.com/economia/sectores/gobierno-busca-obtener-creditos-externos-con-multilaterales-hasta-por-us-5-000-millones-para-financiar-el-presupuesto-3364865',\n",
       " 'https://www.eltiempo.com/economia/sectores/procuradora-delegada-para-la-proteccion-social-habla-sobre-la-viabilidad-de-la-reforma-pensional-3364596',\n",
       " 'https://www.eltiempo.com/mas-contenido/andesco-expone-sus-apuestas-en-servicios-publicos-y-medio-ambiente-3357362',\n",
       " 'https://www.eltiempo.com/mas-contenido/la-fucs-impacta-a-comunidades-de-todo-el-pais-3359430'}"
      ]
     },
     "execution_count": 7,
     "metadata": {},
     "output_type": "execute_result"
    }
   ],
   "source": [
    "news_set.update(sect_news_1)\n",
    "news_set"
   ]
  },
  {
   "cell_type": "code",
   "execution_count": 15,
   "id": "3492e121-172b-4815-9780-ff88d034f358",
   "metadata": {},
   "outputs": [
    {
     "data": {
      "text/plain": [
       "{'/economia/empresas/alpina-pule-acuerdo-con-el-gobierno-para-comprar-excedentes-de-leche-de-los-pequenos-ganaderos-3364984',\n",
       " '/economia/empresas/colombiano-grupo-oikos-invierte-us-2-5-millones-en-ecuador-cual-es-el-negocio-desarrollara-en-el-vecino-pais-3363223',\n",
       " '/economia/empresas/como-se-hara-la-transaccion-en-que-el-grupo-gilinski-cederia-control-de-nutresa-a-su-socio-arabe-3364519',\n",
       " '/economia/empresas/crowdstrike-se-desploma-en-wall-street-pero-microsoft-apenas-lo-nota-nueva-york-3363838',\n",
       " '/economia/empresas/dale-entregara-mas-de-300-millones-de-pesos-a-pequenos-negocios-en-incentivos-3363071',\n",
       " '/economia/empresas/la-advertencia-del-ministerio-del-trabajo-a-las-empresas-que-no-implementen-la-reduccion-de-la-jornada-laboral-seran-sometidas-a-investigaciones-y-sanciones-3362943',\n",
       " '/economia/empresas/las-fusiones-empresariales-en-latinoamerica-y-colombia-se-redujeron-en-el-primer-semestre-del-2024-estas-fueron-las-casusas-de-la-caida-3364718',\n",
       " '/economia/empresas/lulo-bank-anuncia-beneficios-de-ahorro-crecimiento-de-dinero-y-rentabilidad-en-su-aplicacion-3363947',\n",
       " '/economia/empresas/mercado-libre-anuncia-inversion-de-380-millones-de-dolares-en-colombia-para-soluciones-tecnologicas-3363040',\n",
       " '/economia/empresas/tigo-colombia-no-tiene-una-necesidad-de-capitalizacion-adicional-de-sus-accionistas-carlos-blanco-3363211',\n",
       " '/economia/finanzas-personales/asi-tendria-que-ser-el-contrato-de-una-empleada-domestica-en-colombia-con-la-reforma-laboral-3364497',\n",
       " '/economia/finanzas-personales/como-calcular-el-valor-de-la-pension-en-colpensiones-paso-a-paso-para-obtener-la-pension-de-vejez-en-colombia-3364557',\n",
       " '/economia/finanzas-personales/como-saber-si-tengo-giro-de-renta-ciudadana-o-devolucion-de-iva-link-de-banco-agrario-3365102',\n",
       " '/economia/finanzas-personales/declaracion-de-renta-2024-lista-de-personas-que-no-deben-declarar-segun-requisitos-de-la-dian-3364807',\n",
       " '/economia/finanzas-personales/dian-subasta-relojes-anillos-pulseras-y-mas-joyas-desde-207-mil-asi-puede-adquirir-oro-plata-y-otros-metales-preciosos-3365023',\n",
       " '/economia/finanzas-personales/loteria-de-la-cruz-roja-y-el-huila-resultados-del-martes-23-de-julio-de-2024-3365149',\n",
       " '/economia/finanzas-personales/reforma-pensional-cuanto-debe-ganar-en-su-salario-para-recibir-una-pension-de-3-millones-de-pesos-3364174',\n",
       " '/economia/finanzas-personales/resultados-de-el-dorado-del-lunes-22-de-julio-de-2024-3364780',\n",
       " '/economia/finanzas-personales/resultados-del-super-astro-sol-del-martes-23-de-julio-de-2024-3364787',\n",
       " '/economia/sector-financiero/analistas-esperan-que-la-tasa-de-intervencion-del-banco-de-la-republica-cierre-el-ano-en-8-5-3364696',\n",
       " '/economia/sector-financiero/asi-avanza-el-segundo-tiempo-del-espanol-banco-santander-en-el-mercado-financiero-colombiano-3363270',\n",
       " '/economia/sector-financiero/banco-caja-social-se-suma-a-las-entidades-financieras-que-bajan-las-tasas-para-creditos-de-vivienda-3361494',\n",
       " '/economia/sector-financiero/banco-de-occidente-se-suma-a-la-guerra-de-tasas-de-credito-de-vivienda-3361589',\n",
       " '/economia/sector-financiero/bbva-colombia-tambien-se-suma-a-la-rebaja-de-tasas-de-interes-para-poder-adquirir-vivienda-3360651',\n",
       " '/economia/sector-financiero/gobierno-y-representantes-de-la-banca-privada-vuelven-a-reunirse-para-buscar-salidas-que-permitan-reactivar-la-economia-3360972',\n",
       " '/economia/sector-financiero/mientras-avanza-proyecto-normativo-de-criptoactivos-en-el-congreso-tres-entidades-del-pais-entran-de-lleno-a-este-mercado-3364611',\n",
       " '/economia/sector-financiero/nuevo-encuentro-del-gobierno-con-los-banqueros-para-tratar-de-destrabar-la-economia-colombiana-3363585',\n",
       " '/economia/sector-financiero/pilas-nueva-modalidad-de-fraude-por-descuentos-de-hasta-el-70-en-las-multas-esto-es-lo-que-debe-saber-3360914',\n",
       " '/economia/sector-financiero/scotiabank-colpatria-se-une-a-la-lista-de-bancos-que-reducen-sus-tasas-de-interes-para-creditos-de-vivienda-3364449',\n",
       " '/economia/sectores/el-gobierno-no-tiene-recursos-para-poner-en-marcha-la-reactivacion-economica-juan-camilo-restrepo-3364934',\n",
       " '/economia/sectores/el-paro-de-taxistas-en-colombia-revive-los-reclamos-sobre-las-medidas-contra-el-transporte-ilegal-3365062',\n",
       " '/economia/sectores/empresarios-lanzan-propuestas-y-piden-seguridad-juridica-para-hacer-inversiones-y-reactivar-la-economia-3365103',\n",
       " '/economia/sectores/entregar-recompensas-por-denunciar-a-evasores-de-impuestos-la-propuesta-de-la-dian-para-mejorar-el-recaudo-3365080',\n",
       " '/economia/sectores/gobierno-busca-obtener-creditos-externos-con-multilaterales-hasta-por-us-5-000-millones-para-financiar-el-presupuesto-3364865',\n",
       " '/economia/sectores/minhacienda-dice-cuanto-deberia-subir-el-precio-del-acpm-para-cerrar-brecha-no-podemos-mantenerlo-congelado-3365065',\n",
       " '/economia/sectores/no-desperdiciemos-la-oportunidad-de-tener-un-gobierno-elegido-por-sectores-historicamente-excluidos-mincomercio-3364911',\n",
       " '/economia/sectores/volvo-espera-duplicar-sus-ventas-con-su-nuevo-vehiculo-100-electrico-precios-y-caracteristicas-del-ex30-3364848',\n",
       " 'https://www.eltiempo.com/contenido-comercial/la-escuela-colombiana-de-ingenieria-julio-garavito-amplia-su-oferta-de-posgrados-3352345',\n",
       " 'https://www.eltiempo.com/economia/empresas/esto-dicen-las-directivas-de-grupo-nutresa-sobre-eventual-traspaso-a-inversionista-arabe-del-control-de-la-multilatina-de-alimentos-3364622',\n",
       " 'https://www.eltiempo.com/economia/sectores/juan-felipe-harman-director-de-la-ant-debido-al-fallo-de-la-corte-quedaran-en-suspension-provisional-20-000-procesos-agrarios-3364605',\n",
       " 'https://www.eltiempo.com/economia/sectores/procuradora-delegada-para-la-proteccion-social-habla-sobre-la-viabilidad-de-la-reforma-pensional-3364596',\n",
       " 'https://www.eltiempo.com/economia/sectores/ranking-petrolero-en-colombia-estos-son-los-10-departamentos-que-mas-petroleo-producen-3358245',\n",
       " 'https://www.eltiempo.com/mas-contenido/andesco-expone-sus-apuestas-en-servicios-publicos-y-medio-ambiente-3357362',\n",
       " 'https://www.eltiempo.com/mas-contenido/el-desafio-de-transformar-la-hoja-de-coca-en-oportunidad-3358707'}"
      ]
     },
     "execution_count": 15,
     "metadata": {},
     "output_type": "execute_result"
    }
   ],
   "source": [
    "sect_news_1 = set(parsed.xpath(\".//main[@class='content']//section[contains(@class, o-section) and not(contains(@class, 'o-section--misportales')) and not(contains(@class, 'u-color-bg--grey'))]//article[contains(@class, 'c-article')]//h3[@class='c-article__title']/a/@href\"))\n",
    "sect_news_1"
   ]
  },
  {
   "cell_type": "code",
   "execution_count": 9,
   "id": "f05155d1-abf6-43cf-8363-9ec734d2d000",
   "metadata": {},
   "outputs": [
    {
     "name": "stdout",
     "output_type": "stream",
     "text": [
      "https://www.eltiempo.com/economia/sectores/oferta-de-gas-local-no-sera-suficiente-para-cubrir-la-demanda-en-2025-y-2026-advierte-naturgas-3365219\n",
      "['Oferta de gas local no será suficiente para cubrir la demanda en 2025 y 2026, advierte Naturgas']\n",
      "['24 de julio 2024, 07:45 A.M.', ' Actualizado:24.07.2024 10:27']\n",
      "['Para evitar el desabastecimiento, el gremio propone complementar la oferta local con fuentes externas.\\xa0']\n",
      "['Noelia Cigüenza Riaño']\n"
     ]
    }
   ],
   "source": [
    "count = 0\n",
    "\n",
    "for news in news_set:\n",
    "    url_webpage = 'https://www.eltiempo.com/economia/'\n",
    "    if news.find(url_webpage) == -1:\n",
    "        url_webpage = url_webpage.replace('/economia/', '')\n",
    "        news = url_webpage + news\n",
    "        print(news)\n",
    "    news_content = r.get(news)\n",
    "    parsed = html.fromstring(news_content.text)\n",
    "\n",
    "    print(parsed.xpath(XPATH_TITLE))\n",
    "    print(parsed.xpath(XPATH_DATE))\n",
    "    print(parsed.xpath(XPATH_LEAD))\n",
    "    print(parsed.xpath(XPATH_AUTHOR))\n",
    "\n",
    "    count += 1\n",
    "\n",
    "    if count == 1:\n",
    "        break"
   ]
  },
  {
   "cell_type": "code",
   "execution_count": null,
   "id": "2691978a-0153-4fc4-bcb4-1c485ff9c56e",
   "metadata": {},
   "outputs": [],
   "source": []
  }
 ],
 "metadata": {
  "kernelspec": {
   "display_name": "Python 3 (ipykernel)",
   "language": "python",
   "name": "python3"
  },
  "language_info": {
   "codemirror_mode": {
    "name": "ipython",
    "version": 3
   },
   "file_extension": ".py",
   "mimetype": "text/x-python",
   "name": "python",
   "nbconvert_exporter": "python",
   "pygments_lexer": "ipython3",
   "version": "3.10.12"
  }
 },
 "nbformat": 4,
 "nbformat_minor": 5
}
