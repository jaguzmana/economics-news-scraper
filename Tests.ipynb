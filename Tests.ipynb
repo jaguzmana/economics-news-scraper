{
 "cells": [
  {
   "cell_type": "markdown",
   "id": "aa0b18eb-3e35-4587-8089-26de8236be2f",
   "metadata": {},
   "source": [
    "# Economics News Scrapper"
   ]
  },
  {
   "cell_type": "code",
   "execution_count": 1,
   "id": "b5939050-316f-4bcb-9a40-56aaf5e15e47",
   "metadata": {},
   "outputs": [],
   "source": [
    "import requests as r\n",
    "import lxml.html as html"
   ]
  },
  {
   "cell_type": "markdown",
   "id": "970a9579-cc87-418f-a58e-b2dafc43ed8c",
   "metadata": {},
   "source": [
    "## La Republica"
   ]
  },
  {
   "cell_type": "code",
   "execution_count": 14,
   "id": "9c695561-e624-4566-9c30-80ce2f172333",
   "metadata": {},
   "outputs": [
    {
     "data": {
      "text/plain": [
       "200"
      ]
     },
     "execution_count": 14,
     "metadata": {},
     "output_type": "execute_result"
    }
   ],
   "source": [
    "response = r.get('https://www.larepublica.co/economia')\n",
    "response.status_code"
   ]
  },
  {
   "cell_type": "code",
   "execution_count": 15,
   "id": "1d060a74-b3b8-4b2c-a0c4-bfc1316f447d",
   "metadata": {},
   "outputs": [],
   "source": [
    "parsed = html.fromstring(response.text)"
   ]
  },
  {
   "cell_type": "code",
   "execution_count": 16,
   "id": "bc218986-0412-41db-9eff-825b4ee6099f",
   "metadata": {},
   "outputs": [],
   "source": [
    "news_set = set()"
   ]
  },
  {
   "cell_type": "code",
   "execution_count": 17,
   "id": "f53a8f3f-35c8-45ed-8a90-297cd2ca098b",
   "metadata": {},
   "outputs": [
    {
     "data": {
      "text/plain": [
       "{'https://www.larepublica.co/economia/asi-quedaron-definidas-las-mesas-directivas-en-senado-y-camara-tras-las-votaciones-3912535',\n",
       " 'https://www.larepublica.co/economia/gustavo-petro-se-pronuncio-sobre-la-baja-productividad-laboral-y-pidio-bajar-la-jornada-3912559',\n",
       " 'https://www.larepublica.co/economia/la-comida-rapida-cada-vez-esta-mas-cara-en-la-ultima-decada-se-encarecio-mas-de-60-3912474',\n",
       " 'https://www.larepublica.co/economia/petro-pide-a-bancos-que-se-convierta-a-la-economia-popular-3912325',\n",
       " 'https://www.larepublica.co/economia/petro-sobre-eleccion-de-los-presidentes-del-senado-y-camara-3912551',\n",
       " 'https://www.larepublica.co/economia/presidente-petro-llamo-a-hacer-una-reforma-agraria-y-promover-inversiones-forzosas-3912486'}"
      ]
     },
     "execution_count": 17,
     "metadata": {},
     "output_type": "execute_result"
    }
   ],
   "source": [
    "main_page_links = set(parsed.xpath(\".//div[contains(@class, 'apertura')]/div[@class='flex-grow-1']//a/@href\"))\n",
    "main_page_links"
   ]
  },
  {
   "cell_type": "code",
   "execution_count": 18,
   "id": "e18ffa94-8587-4d73-8821-96ba98b03405",
   "metadata": {},
   "outputs": [
    {
     "data": {
      "text/plain": [
       "{'https://www.larepublica.co/economia/asi-quedaron-definidas-las-mesas-directivas-en-senado-y-camara-tras-las-votaciones-3912535',\n",
       " 'https://www.larepublica.co/economia/gustavo-petro-se-pronuncio-sobre-la-baja-productividad-laboral-y-pidio-bajar-la-jornada-3912559',\n",
       " 'https://www.larepublica.co/economia/la-comida-rapida-cada-vez-esta-mas-cara-en-la-ultima-decada-se-encarecio-mas-de-60-3912474',\n",
       " 'https://www.larepublica.co/economia/petro-pide-a-bancos-que-se-convierta-a-la-economia-popular-3912325',\n",
       " 'https://www.larepublica.co/economia/petro-sobre-eleccion-de-los-presidentes-del-senado-y-camara-3912551',\n",
       " 'https://www.larepublica.co/economia/presidente-petro-llamo-a-hacer-una-reforma-agraria-y-promover-inversiones-forzosas-3912486'}"
      ]
     },
     "execution_count": 18,
     "metadata": {},
     "output_type": "execute_result"
    }
   ],
   "source": [
    "news_set.update(main_page_links)\n",
    "news_set"
   ]
  },
  {
   "cell_type": "code",
   "execution_count": 19,
   "id": "a976b200-98f9-4a35-83dd-6f6272f6c441",
   "metadata": {},
   "outputs": [
    {
     "data": {
      "text/plain": [
       "{'https://www.larepublica.co/economia/caf-aprobo-credito-de-us-350-millones-para-el-desarrollo-territorial-de-colombia-3911478',\n",
       " 'https://www.larepublica.co/economia/comunidades-embera-inician-el-regreso-a-sus-territorios-confirmo-alcaldia-de-bogota-3911668',\n",
       " 'https://www.larepublica.co/economia/de-las-reformas-sociales-dos-se-hundieron-dos-se-aprobaron-y-una-sigue-en-tramite-3912008',\n",
       " 'https://www.larepublica.co/economia/ejecucion-presupuestal-esta-por-debajo-del-promedio-de-23-anos-3911932',\n",
       " 'https://www.larepublica.co/economia/el-exdirector-del-dnp-jorge-ivan-gonzalez-ve-razones-para-suspender-la-regla-fiscal-3911513',\n",
       " 'https://www.larepublica.co/economia/generar-confianza-fast-track-y-dinamizar-debates-algunos-de-los-retos-del-congreso-3912465',\n",
       " 'https://www.larepublica.co/economia/gobierno-nacional-buscaria-recortar-la-jornada-laboral-hasta-las-40-horas-semanales-3911359',\n",
       " 'https://www.larepublica.co/economia/gobierno-nacional-se-alista-para-presentar-en-la-legislatura-otra-reforma-tributaria-3911727',\n",
       " 'https://www.larepublica.co/economia/gobierno-nacional-ultima-detalles-del-plan-de-reactivacion-a-dos-semanas-de-radicarlo-3911522',\n",
       " 'https://www.larepublica.co/economia/grupo-ecopetrol-buscara-adquirir-una-participacion-en-crownrock-en-estados-unidos-3911261',\n",
       " 'https://www.larepublica.co/economia/importaciones-en-mayo-se-incrementaron-2-2-y-alcanzaron-us-5-535-5-millones-cif-3911444',\n",
       " 'https://www.larepublica.co/economia/los-horarios-vias-y-detalles-del-desfile-militar-y-policial-por-el-dia-de-la-independencia-3912371',\n",
       " 'https://www.larepublica.co/economia/mintic-reporto-una-afectacion-minima-en-colombia-por-un-fallo-tecnologico-mundial-3911656',\n",
       " 'https://www.larepublica.co/economia/nacion-podra-contratar-emprestitos-externos-por-us-5-000-millones-para-presupuesto-3911853',\n",
       " 'https://www.larepublica.co/economia/presidente-petro-insistio-en-que-el-sector-financiero-debe-hacer-una-inversion-forzosa-3911788',\n",
       " 'https://www.larepublica.co/economia/reformas-del-gobierno-de-petro-3912021',\n",
       " 'https://www.larepublica.co/economia/se-desarrollan-el-desfile-militar-y-policial-y-el-protocolo-por-el-dia-de-la-independencia-3912381',\n",
       " 'https://www.larepublica.co/economia/subastas-publicas-de-la-dian-3911505',\n",
       " 'https://www.larepublica.co/economia/transmilenio-descarto-impactos-en-el-sistema-por-la-falla-informatica-a-nivel-global-3911228'}"
      ]
     },
     "execution_count": 19,
     "metadata": {},
     "output_type": "execute_result"
    }
   ],
   "source": [
    "more_news_links = set(parsed.xpath(\".//div[contains(@class, 'more-news')]/div[@id='proportional-anchor-1']//a/@href\"))\n",
    "more_news_links"
   ]
  },
  {
   "cell_type": "code",
   "execution_count": 20,
   "id": "2e8d8252-a155-44eb-b05a-d54d97df2fed",
   "metadata": {},
   "outputs": [
    {
     "data": {
      "text/plain": [
       "{'https://www.larepublica.co/economia/asi-quedaron-definidas-las-mesas-directivas-en-senado-y-camara-tras-las-votaciones-3912535',\n",
       " 'https://www.larepublica.co/economia/caf-aprobo-credito-de-us-350-millones-para-el-desarrollo-territorial-de-colombia-3911478',\n",
       " 'https://www.larepublica.co/economia/comunidades-embera-inician-el-regreso-a-sus-territorios-confirmo-alcaldia-de-bogota-3911668',\n",
       " 'https://www.larepublica.co/economia/de-las-reformas-sociales-dos-se-hundieron-dos-se-aprobaron-y-una-sigue-en-tramite-3912008',\n",
       " 'https://www.larepublica.co/economia/ejecucion-presupuestal-esta-por-debajo-del-promedio-de-23-anos-3911932',\n",
       " 'https://www.larepublica.co/economia/el-exdirector-del-dnp-jorge-ivan-gonzalez-ve-razones-para-suspender-la-regla-fiscal-3911513',\n",
       " 'https://www.larepublica.co/economia/generar-confianza-fast-track-y-dinamizar-debates-algunos-de-los-retos-del-congreso-3912465',\n",
       " 'https://www.larepublica.co/economia/gobierno-nacional-buscaria-recortar-la-jornada-laboral-hasta-las-40-horas-semanales-3911359',\n",
       " 'https://www.larepublica.co/economia/gobierno-nacional-se-alista-para-presentar-en-la-legislatura-otra-reforma-tributaria-3911727',\n",
       " 'https://www.larepublica.co/economia/gobierno-nacional-ultima-detalles-del-plan-de-reactivacion-a-dos-semanas-de-radicarlo-3911522',\n",
       " 'https://www.larepublica.co/economia/grupo-ecopetrol-buscara-adquirir-una-participacion-en-crownrock-en-estados-unidos-3911261',\n",
       " 'https://www.larepublica.co/economia/gustavo-petro-se-pronuncio-sobre-la-baja-productividad-laboral-y-pidio-bajar-la-jornada-3912559',\n",
       " 'https://www.larepublica.co/economia/importaciones-en-mayo-se-incrementaron-2-2-y-alcanzaron-us-5-535-5-millones-cif-3911444',\n",
       " 'https://www.larepublica.co/economia/la-comida-rapida-cada-vez-esta-mas-cara-en-la-ultima-decada-se-encarecio-mas-de-60-3912474',\n",
       " 'https://www.larepublica.co/economia/los-horarios-vias-y-detalles-del-desfile-militar-y-policial-por-el-dia-de-la-independencia-3912371',\n",
       " 'https://www.larepublica.co/economia/mintic-reporto-una-afectacion-minima-en-colombia-por-un-fallo-tecnologico-mundial-3911656',\n",
       " 'https://www.larepublica.co/economia/nacion-podra-contratar-emprestitos-externos-por-us-5-000-millones-para-presupuesto-3911853',\n",
       " 'https://www.larepublica.co/economia/petro-pide-a-bancos-que-se-convierta-a-la-economia-popular-3912325',\n",
       " 'https://www.larepublica.co/economia/petro-sobre-eleccion-de-los-presidentes-del-senado-y-camara-3912551',\n",
       " 'https://www.larepublica.co/economia/presidente-petro-insistio-en-que-el-sector-financiero-debe-hacer-una-inversion-forzosa-3911788',\n",
       " 'https://www.larepublica.co/economia/presidente-petro-llamo-a-hacer-una-reforma-agraria-y-promover-inversiones-forzosas-3912486',\n",
       " 'https://www.larepublica.co/economia/reformas-del-gobierno-de-petro-3912021',\n",
       " 'https://www.larepublica.co/economia/se-desarrollan-el-desfile-militar-y-policial-y-el-protocolo-por-el-dia-de-la-independencia-3912381',\n",
       " 'https://www.larepublica.co/economia/subastas-publicas-de-la-dian-3911505',\n",
       " 'https://www.larepublica.co/economia/transmilenio-descarto-impactos-en-el-sistema-por-la-falla-informatica-a-nivel-global-3911228'}"
      ]
     },
     "execution_count": 20,
     "metadata": {},
     "output_type": "execute_result"
    }
   ],
   "source": [
    "news_set.update(more_news_links)\n",
    "news_set"
   ]
  },
  {
   "cell_type": "code",
   "execution_count": 21,
   "id": "3d3e5f49-6254-4c40-b9b2-b20089babb1a",
   "metadata": {},
   "outputs": [
    {
     "data": {
      "text/plain": [
       "19"
      ]
     },
     "execution_count": 21,
     "metadata": {},
     "output_type": "execute_result"
    }
   ],
   "source": [
    "len(more_news_links)"
   ]
  },
  {
   "cell_type": "code",
   "execution_count": 22,
   "id": "4976a75b-3c0b-43ee-a776-e2f12e9267f9",
   "metadata": {},
   "outputs": [],
   "source": [
    "XPATH_TITLE = \".//div[contains(@data-epica-module-name, 'Contenido')]//div[contains(@class, 'OpeningPostNormal')]//h2/span/text()\"\n",
    "XPATH_DATE = \".//div[contains(@data-epica-module-name, 'Contenido')]//div[contains(@class, 'OpeningPostNormal')]//span[@class='date']/text()\"\n",
    "XPATH_LEAD = \".//div[@class='lead']/p/text()\"\n",
    "XPATH_AUTHOR = \".//div[@class='author-article']//button/text()\""
   ]
  },
  {
   "cell_type": "code",
   "execution_count": 23,
   "id": "77ef219b-f950-4992-9bb8-fb058de9df2d",
   "metadata": {},
   "outputs": [
    {
     "name": "stdout",
     "output_type": "stream",
     "text": [
      "['\\n                        De las reformas sociales, dos se hundieron, dos se aprobaron y una sigue en trámite\\n                    ']\n",
      "['sábado, 20 de julio de 2024']\n",
      "['La Reforma Pensional y la Jurisdicción Agraria se convirtieron en ley, pero se hundieron las de salud y educación. A la laboral le faltan tres debates']\n",
      "['Brayan Xavier Becerra']\n"
     ]
    }
   ],
   "source": [
    "count = 0\n",
    "\n",
    "for news in news_set:\n",
    "    news_content = r.get(news)\n",
    "    parsed = html.fromstring(news_content.text)\n",
    "\n",
    "    print(parsed.xpath(XPATH_TITLE))\n",
    "    print(parsed.xpath(XPATH_DATE))\n",
    "    print(parsed.xpath(XPATH_LEAD))\n",
    "    print(parsed.xpath(XPATH_AUTHOR))\n",
    "\n",
    "    count += 1\n",
    "\n",
    "    if count == 1:\n",
    "        break\n",
    "    "
   ]
  },
  {
   "cell_type": "markdown",
   "id": "35defeae-716f-4e42-9161-aefb8b2aac52",
   "metadata": {},
   "source": [
    "## El Espectador"
   ]
  },
  {
   "cell_type": "code",
   "execution_count": null,
   "id": "04df56ba-b5a2-4a0e-8be0-84ffce2359ef",
   "metadata": {},
   "outputs": [],
   "source": []
  },
  {
   "cell_type": "markdown",
   "id": "2d08ba7f-0e78-4229-844a-67159ef5bd01",
   "metadata": {},
   "source": [
    "## El Tiempo"
   ]
  },
  {
   "cell_type": "code",
   "execution_count": null,
   "id": "867860b9-2eb3-406f-a31b-f446d37d4abe",
   "metadata": {},
   "outputs": [],
   "source": []
  }
 ],
 "metadata": {
  "kernelspec": {
   "display_name": "Python 3 (ipykernel)",
   "language": "python",
   "name": "python3"
  },
  "language_info": {
   "codemirror_mode": {
    "name": "ipython",
    "version": 3
   },
   "file_extension": ".py",
   "mimetype": "text/x-python",
   "name": "python",
   "nbconvert_exporter": "python",
   "pygments_lexer": "ipython3",
   "version": "3.10.12"
  }
 },
 "nbformat": 4,
 "nbformat_minor": 5
}
